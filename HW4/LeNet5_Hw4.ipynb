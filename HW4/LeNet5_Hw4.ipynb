{
  "nbformat": 4,
  "nbformat_minor": 0,
  "metadata": {
    "colab": {
      "name": "LeNet5_Hw4.ipynb",
      "provenance": [],
      "collapsed_sections": []
    },
    "kernelspec": {
      "name": "python3",
      "display_name": "Python 3"
    },
    "accelerator": "GPU"
  },
  "cells": [
    {
      "cell_type": "code",
      "metadata": {
        "id": "IfDpE23xdhEN",
        "outputId": "85209bc3-a4ea-4a87-9a5c-1d20ccfa0fbb",
        "colab": {
          "base_uri": "https://localhost:8080/"
        }
      },
      "source": [
        "# Name: Shashank Nelamangala Sridhara\n",
        "# USC ID Number: 2082227554\n",
        "# USC Email: nelamang@usc.edu\n",
        "# Submission Date: 11/03/2020\n",
        "\n",
        "!pip install torchvision\n",
        "!pip install efficientnet_pytorch\n",
        "from google.colab import drive\n",
        "import torch\n",
        "import torchvision\n",
        "from torchvision import transforms, datasets\n",
        "import matplotlib.pyplot as plt\n",
        "import numpy as np\n",
        "from torch.utils.data.sampler import SubsetRandomSampler\n",
        "drive.mount('/content/drive')\n"
      ],
      "execution_count": 1,
      "outputs": [
        {
          "output_type": "stream",
          "text": [
            "Requirement already satisfied: torchvision in /usr/local/lib/python3.6/dist-packages (0.7.0+cu101)\n",
            "Requirement already satisfied: numpy in /usr/local/lib/python3.6/dist-packages (from torchvision) (1.18.5)\n",
            "Requirement already satisfied: pillow>=4.1.1 in /usr/local/lib/python3.6/dist-packages (from torchvision) (7.0.0)\n",
            "Requirement already satisfied: torch==1.6.0 in /usr/local/lib/python3.6/dist-packages (from torchvision) (1.6.0+cu101)\n",
            "Requirement already satisfied: future in /usr/local/lib/python3.6/dist-packages (from torch==1.6.0->torchvision) (0.16.0)\n",
            "Collecting efficientnet_pytorch\n",
            "  Downloading https://files.pythonhosted.org/packages/4e/83/f9c5f44060f996279e474185ebcbd8dbd91179593bffb9abe3afa55d085b/efficientnet_pytorch-0.7.0.tar.gz\n",
            "Requirement already satisfied: torch in /usr/local/lib/python3.6/dist-packages (from efficientnet_pytorch) (1.6.0+cu101)\n",
            "Requirement already satisfied: numpy in /usr/local/lib/python3.6/dist-packages (from torch->efficientnet_pytorch) (1.18.5)\n",
            "Requirement already satisfied: future in /usr/local/lib/python3.6/dist-packages (from torch->efficientnet_pytorch) (0.16.0)\n",
            "Building wheels for collected packages: efficientnet-pytorch\n",
            "  Building wheel for efficientnet-pytorch (setup.py) ... \u001b[?25l\u001b[?25hdone\n",
            "  Created wheel for efficientnet-pytorch: filename=efficientnet_pytorch-0.7.0-cp36-none-any.whl size=16031 sha256=4c81f2e2a9c1e4bb18c10bd1b5a665ade7e2b6d5bd8d4fae3ab8dc8257e57c11\n",
            "  Stored in directory: /root/.cache/pip/wheels/e9/c6/e1/7a808b26406239712cfce4b5ceeb67d9513ae32aa4b31445c6\n",
            "Successfully built efficientnet-pytorch\n",
            "Installing collected packages: efficientnet-pytorch\n",
            "Successfully installed efficientnet-pytorch-0.7.0\n",
            "Mounted at /content/drive\n"
          ],
          "name": "stdout"
        }
      ]
    },
    {
      "cell_type": "code",
      "metadata": {
        "id": "XEW01Sj8dyOe",
        "outputId": "c311b091-5e23-4f2c-848f-189f836a8d7b",
        "colab": {
          "base_uri": "https://localhost:8080/"
        }
      },
      "source": [
        "#Preprocess the data\n",
        "trainSet = datasets.CIFAR10(\"drive/My Drive/CSCI677-Homeworks\", train = True, download = True, \n",
        "            transform = transforms.Compose([transforms.RandomHorizontalFlip(), transforms.ToTensor(), transforms.Normalize((0.5, 0.5, 0.5), (0.5, 0.5, 0.5)), transforms.RandomErasing()]))\n",
        "testSet = datasets.CIFAR10(\"drive/My Drive/CSCI677-Homeworks\",  train = False, download = True, \n",
        "        transform = transforms.Compose([transforms.ToTensor(), transforms.Normalize((0.5, 0.5, 0.5), (0.5, 0.5, 0.5))]))\n",
        "\n",
        "validation_split = 0.2\n",
        "shuffle_dataset = True\n",
        "random_seed= 42\n",
        "\n",
        "dataset_size = len(trainSet)\n",
        "indices = list(range(dataset_size))\n",
        "split = int(np.floor(validation_split * dataset_size))\n",
        "\n",
        "\n",
        "if shuffle_dataset :\n",
        "    np.random.seed(random_seed)\n",
        "    np.random.shuffle(indices)\n",
        "train_indices, val_indices = indices[split:], indices[:split]\n",
        "\n",
        "# Creating PT data samplers and loaders:\n",
        "train_sampler = SubsetRandomSampler(train_indices)\n",
        "valid_sampler = SubsetRandomSampler(val_indices)\n",
        "\n",
        "trainImages = torch.utils.data.DataLoader(trainSet, batch_size = 64, sampler=train_sampler, num_workers=2)\n",
        "validationImages = torch.utils.data.DataLoader(trainSet, batch_size=64,sampler=valid_sampler,num_workers=2)\n",
        "testImages = torch.utils.data.DataLoader(testSet, batch_size = 1000, shuffle = True,num_workers=2)\n",
        "\n"
      ],
      "execution_count": 2,
      "outputs": [
        {
          "output_type": "stream",
          "text": [
            "Files already downloaded and verified\n",
            "Files already downloaded and verified\n"
          ],
          "name": "stdout"
        }
      ]
    },
    {
      "cell_type": "code",
      "metadata": {
        "id": "Cb0V3sdL7gP1",
        "outputId": "f99c10ee-02b6-4773-ee59-17d9ee64a64e",
        "colab": {
          "base_uri": "https://localhost:8080/"
        }
      },
      "source": [
        "trainSet.classes"
      ],
      "execution_count": 3,
      "outputs": [
        {
          "output_type": "execute_result",
          "data": {
            "text/plain": [
              "['airplane',\n",
              " 'automobile',\n",
              " 'bird',\n",
              " 'cat',\n",
              " 'deer',\n",
              " 'dog',\n",
              " 'frog',\n",
              " 'horse',\n",
              " 'ship',\n",
              " 'truck']"
            ]
          },
          "metadata": {
            "tags": []
          },
          "execution_count": 3
        }
      ]
    },
    {
      "cell_type": "code",
      "metadata": {
        "id": "9VwF0CXbBF0S",
        "outputId": "be00c9d0-736d-408b-ee97-36ade7c52f60",
        "colab": {
          "base_uri": "https://localhost:8080/"
        }
      },
      "source": [
        "#To check whether the data is balanced\n",
        "count1 = 0\n",
        "obj_dict1 = {0:0, 1:0, 2:0, 3:0, 4:0, 5:0, 6:0, 7:0, 8:0, 9:0}\n",
        "for imgs in trainImages:\n",
        "  Images, labels = imgs\n",
        "  for l in labels:\n",
        "    obj_dict1[int(l)] += 1\n",
        "    count1 +=1\n",
        "\n",
        "count2 = 0\n",
        "obj_dict2 = {0:0, 1:0, 2:0, 3:0, 4:0, 5:0, 6:0, 7:0, 8:0, 9:0}\n",
        "for imgs in validationImages:\n",
        "  Images, labels = imgs\n",
        "  for l in labels:\n",
        "    obj_dict2[int(l)] += 1\n",
        "    count2 +=1\n",
        "\n",
        "\n",
        "count3 = 0\n",
        "obj_dict3 = {0:0, 1:0, 2:0, 3:0, 4:0, 5:0, 6:0, 7:0, 8:0, 9:0}\n",
        "for imgs in testImages:\n",
        "  Images, labels = imgs\n",
        "  for l in labels:\n",
        "    obj_dict3[int(l)] += 1\n",
        "    count3 +=1\n",
        "\n",
        "print (\"Training Set: \",obj_dict1)\n",
        "print (\"Validation Set: \",obj_dict2)\n",
        "print (\"Test Set: \",obj_dict3)\n"
      ],
      "execution_count": 4,
      "outputs": [
        {
          "output_type": "stream",
          "text": [
            "Training Set:  {0: 4027, 1: 4021, 2: 3970, 3: 3977, 4: 4067, 5: 3985, 6: 4004, 7: 4006, 8: 3983, 9: 3960}\n",
            "Validation Set:  {0: 973, 1: 979, 2: 1030, 3: 1023, 4: 933, 5: 1015, 6: 996, 7: 994, 8: 1017, 9: 1040}\n",
            "Test Set:  {0: 1000, 1: 1000, 2: 1000, 3: 1000, 4: 1000, 5: 1000, 6: 1000, 7: 1000, 8: 1000, 9: 1000}\n"
          ],
          "name": "stdout"
        }
      ]
    },
    {
      "cell_type": "code",
      "metadata": {
        "id": "g7Sj6esCFTAh",
        "outputId": "edc45a8d-18b4-4c32-c413-738aaae1ba99",
        "colab": {
          "base_uri": "https://localhost:8080/"
        }
      },
      "source": [
        "#Baseline Model : LeNet-5 architecture\n",
        "import torch.nn as nn\n",
        "import torch.nn.functional as Func\n",
        "#from efficientnet_pytorch import EfficientNet\n",
        "\n",
        "class Net(nn.Module):\n",
        "  def __init__(self, model_name='efficientnet-b0'):\n",
        "    super(Net, self).__init__()\n",
        "    #model = EfficientNet.from_pretrained(model_name)\n",
        "    #self.model = model\n",
        "\n",
        "    #Defining 2 convolution layers\n",
        "    self.convotionLayer1 = nn.Conv2d(3, 6, 5)\n",
        "    self.convotionLayer2 = nn.Conv2d(6, 16, 5)\n",
        "    #Defining Fully connected Layers (y = Wx + b)\n",
        "    self.fullyConnected1 = nn.Linear(16 * 5 * 5, 120)\n",
        "    self.fullyConnected2 = nn.Linear(120, 84)\n",
        "    self.fullyConnected3 = nn.Linear(84, 10)\n",
        "\n",
        "  def forward(self, imageFeatures):\n",
        "    #imageFeatures = self.model.extract_features(imageFeatures)\n",
        "    imageFeatures = Func.max_pool2d(Func.relu(self.convotionLayer1(imageFeatures)), (2, 2))\n",
        "    # If the size is a square you can only specify a single number\n",
        "    imageFeatures = Func.max_pool2d(Func.relu(self.convotionLayer2(imageFeatures)), (2,2))\n",
        "    imageFeatures = imageFeatures.view(-1, 16*5*5)\n",
        "    imageFeatures = Func.relu(self.fullyConnected1(imageFeatures))\n",
        "    imageFeatures = Func.relu(self.fullyConnected2(imageFeatures))\n",
        "    imageFeatures = self.fullyConnected3(imageFeatures)\n",
        "    return imageFeatures\n",
        "\n",
        "\n",
        "cnn = Net()\n",
        "print(cnn)\n",
        "params = list(cnn.parameters())\n",
        "print(len(params))\n",
        "print(params[0].size())\n",
        "\n",
        "input = torch.randn(3,3,32,32)\n",
        "output = cnn(input)\n",
        "print(output)\n",
        "labels = torch.randn(10)\n",
        "labels = labels.view(1, -1) \n",
        "\n",
        "\n",
        "numberOfParams= sum(p.numel() for p in cnn.parameters() if p.requires_grad)\n",
        "print(numberOfParams)\n",
        "\n",
        "\n",
        "\n"
      ],
      "execution_count": 4,
      "outputs": [
        {
          "output_type": "stream",
          "text": [
            "Net(\n",
            "  (convotionLayer1): Conv2d(3, 6, kernel_size=(5, 5), stride=(1, 1))\n",
            "  (convotionLayer2): Conv2d(6, 16, kernel_size=(5, 5), stride=(1, 1))\n",
            "  (fullyConnected1): Linear(in_features=400, out_features=120, bias=True)\n",
            "  (fullyConnected2): Linear(in_features=120, out_features=84, bias=True)\n",
            "  (fullyConnected3): Linear(in_features=84, out_features=10, bias=True)\n",
            ")\n",
            "10\n",
            "torch.Size([6, 3, 5, 5])\n",
            "tensor([[-0.1063, -0.0613,  0.0143,  0.0080,  0.0796, -0.1026, -0.0027, -0.0712,\n",
            "         -0.0034, -0.0750],\n",
            "        [-0.0856, -0.0549,  0.0013,  0.0023,  0.0953, -0.0928,  0.0138, -0.0619,\n",
            "          0.0230, -0.0588],\n",
            "        [-0.0961, -0.0679, -0.0019, -0.0101,  0.1061, -0.1135, -0.0025, -0.0830,\n",
            "          0.0300, -0.0425]], grad_fn=<AddmmBackward>)\n",
            "62006\n"
          ],
          "name": "stdout"
        }
      ]
    },
    {
      "cell_type": "code",
      "metadata": {
        "id": "m9By4tmcHPqi",
        "outputId": "b93acf41-53f6-4eb3-e2f4-c9fface97f0b",
        "colab": {
          "base_uri": "https://localhost:8080/"
        }
      },
      "source": [
        "#Model 4: LeNet-5 architecture with dropout, batch normalization \n",
        "import torch.nn as nn\n",
        "import torch.nn.functional as Func\n",
        "#from efficientnet_pytorch import EfficientNet\n",
        "\n",
        "class Net(nn.Module):\n",
        "  def __init__(self, model_name='efficientnet-b0'):\n",
        "    super(Net, self).__init__()\n",
        "    #model = EfficientNet.from_pretrained(model_name)\n",
        "    #self.model = model\n",
        "\n",
        "    #Defining 2 convolution layers\n",
        "    self.convotionLayer1 = nn.Conv2d(3, 32, 3)\n",
        "    self.drop1 = nn.Dropout2d(0.3)\n",
        "    self.conv1_bn = nn.BatchNorm2d(32)\n",
        "\n",
        "    self.convotionLayer2 = nn.Conv2d(32, 64, 3)\n",
        "    self.drop2 = nn.Dropout2d(0.3)\n",
        "    self.conv2_bn = nn.BatchNorm2d(64)\n",
        "\n",
        "    self.convotionLayer3 = nn.Conv2d(64, 128, 3)\n",
        "    self.drop3 = nn.Dropout2d(0.3)\n",
        "    self.conv3_bn = nn.BatchNorm2d(128)\n",
        "\n",
        "    #Defining Fully connected Layers (y = Wx + b)\n",
        "    self.fullyConnected1 = nn.Linear(128 * 3 * 3, 256)\n",
        "    self.fc1_bn = nn.BatchNorm1d(256)\n",
        "\n",
        "    self.fullyConnected2 = nn.Linear(256, 128)\n",
        "    self.fc2_bn = nn.BatchNorm1d(128)\n",
        "\n",
        "    self.fullyConnected3 = nn.Linear(128, 10)\n",
        "\n",
        "  def forward(self, imageFeatures):\n",
        "    imageFeatures = Func.max_pool2d(Func.relu(self.conv1_bn(self.drop1(self.convotionLayer1(imageFeatures)))), (2, 2))\n",
        "    print(imageFeatures.shape)\n",
        "    # If the size is a square you can only specify a single number\n",
        "    imageFeatures = Func.max_pool2d(Func.relu(self.conv2_bn(self.drop2(self.convotionLayer2(imageFeatures)))), (2,2))\n",
        "    print(imageFeatures.shape)\n",
        "    imageFeatures = imageFeatures.view(-1, 128*3*3)\n",
        "    print(imageFeatures.shape)\n",
        "    imageFeatures = Func.relu(self.fc1_bn(self.fullyConnected1(imageFeatures)))\n",
        "    print(imageFeatures.shape)\n",
        "    imageFeatures = Func.relu(self.fc2_bn(self.fullyConnected2(imageFeatures)))\n",
        "    print(imageFeatures.shape)\n",
        "    imageFeatures = self.fullyConnected3(imageFeatures)\n",
        "    print(imageFeatures.shape)\n",
        "    return imageFeatures\n",
        "\n",
        "\n",
        "cnn = Net()\n",
        "print(cnn)\n",
        "params = list(cnn.parameters())\n",
        "print(len(params))\n",
        "print(params[0].size())\n",
        "\n",
        "input = torch.randn(3,3,32,32)\n",
        "output = cnn(input)\n",
        "print(output)\n",
        "labels = torch.randn(10)\n",
        "labels = labels.view(1, -1) \n",
        "\n",
        "numberOfParams= sum(p.numel() for p in cnn.parameters() if p.requires_grad)\n",
        "print(numberOfParams)\n",
        "\n",
        "\n"
      ],
      "execution_count": 8,
      "outputs": [
        {
          "output_type": "stream",
          "text": [
            "Net(\n",
            "  (convotionLayer1): Conv2d(3, 32, kernel_size=(3, 3), stride=(1, 1))\n",
            "  (drop1): Dropout2d(p=0.3, inplace=False)\n",
            "  (conv1_bn): BatchNorm2d(32, eps=1e-05, momentum=0.1, affine=True, track_running_stats=True)\n",
            "  (convotionLayer2): Conv2d(32, 64, kernel_size=(3, 3), stride=(1, 1))\n",
            "  (drop2): Dropout2d(p=0.3, inplace=False)\n",
            "  (conv2_bn): BatchNorm2d(64, eps=1e-05, momentum=0.1, affine=True, track_running_stats=True)\n",
            "  (convotionLayer3): Conv2d(64, 128, kernel_size=(3, 3), stride=(1, 1))\n",
            "  (drop3): Dropout2d(p=0.3, inplace=False)\n",
            "  (conv3_bn): BatchNorm2d(128, eps=1e-05, momentum=0.1, affine=True, track_running_stats=True)\n",
            "  (fullyConnected1): Linear(in_features=1152, out_features=256, bias=True)\n",
            "  (fc1_bn): BatchNorm1d(256, eps=1e-05, momentum=0.1, affine=True, track_running_stats=True)\n",
            "  (fullyConnected2): Linear(in_features=256, out_features=128, bias=True)\n",
            "  (fc2_bn): BatchNorm1d(128, eps=1e-05, momentum=0.1, affine=True, track_running_stats=True)\n",
            "  (fullyConnected3): Linear(in_features=128, out_features=10, bias=True)\n",
            ")\n",
            "22\n",
            "torch.Size([32, 3, 3, 3])\n",
            "torch.Size([3, 32, 15, 15])\n",
            "torch.Size([3, 64, 6, 6])\n",
            "torch.Size([6, 1152])\n",
            "torch.Size([6, 256])\n",
            "torch.Size([6, 128])\n",
            "torch.Size([6, 10])\n",
            "tensor([[-0.0071,  0.2457,  0.8113,  0.2563,  0.7488,  0.1418,  0.0616, -0.1542,\n",
            "          0.1317,  0.7147],\n",
            "        [-0.1495,  0.2011,  0.5390,  0.2284,  0.4237, -0.4254,  0.8194,  0.0438,\n",
            "          0.3178, -0.0939],\n",
            "        [-0.1752, -0.0394, -0.1218,  0.5062,  0.4457,  0.0828,  0.0633,  0.0301,\n",
            "          0.2845, -0.1779],\n",
            "        [ 0.7688, -0.1812,  0.3841,  0.1457,  0.2029,  0.3273,  0.0030,  0.1318,\n",
            "          0.0397,  0.4407],\n",
            "        [-0.2279, -0.1266,  0.2033, -0.1053,  0.3667, -0.0358, -0.6414,  1.0992,\n",
            "          0.3731,  0.2841],\n",
            "        [-0.0787,  0.1358,  0.4712, -0.0488, -0.6565, -0.1726,  0.4592,  0.2425,\n",
            "          0.5677,  0.0660]], grad_fn=<AddmmBackward>)\n",
            "423818\n"
          ],
          "name": "stdout"
        }
      ]
    },
    {
      "cell_type": "code",
      "metadata": {
        "id": "E7c-kIMpnQQe",
        "outputId": "88bfc5b1-75a2-4d52-8f1b-afb9fe191d12",
        "colab": {
          "base_uri": "https://localhost:8080/"
        }
      },
      "source": [
        "#Model 5: Weight decay, Data augmentation, Data Processsing\n",
        "#Build a Neural Network\n",
        "import torch.nn as nn\n",
        "import torch.nn.functional as Func\n",
        "class Net(nn.Module):\n",
        "    \n",
        "    def __init__(self):\n",
        "        super(Net, self).__init__()\n",
        "        #model = EfficientNet.from_pretrained(model_name)\n",
        "        #self.model = model\n",
        "\n",
        "        #Defining 2 convolution layers\n",
        "        self.convotionLayer1 = nn.Conv2d(3, 32, 3)\n",
        "        self.drop1 = nn.Dropout2d(0.2)\n",
        "        self.conv1_bn = nn.BatchNorm2d(32)\n",
        "\n",
        "        self.convotionLayer2 = nn.Conv2d(32, 32, 3, padding=1)\n",
        "        self.conv2_bn = nn.BatchNorm2d(32)\n",
        "\n",
        "        self.convotionLayer3 = nn.Conv2d(32, 64, 3)\n",
        "        self.drop3 = nn.Dropout2d(0.3)\n",
        "        self.conv3_bn = nn.BatchNorm2d(64)\n",
        "\n",
        "        self.convotionLayer4 = nn.Conv2d(64, 64, 3, padding=1)\n",
        "        self.conv4_bn = nn.BatchNorm2d(64)\n",
        "\n",
        "        self.convotionLayer5 = nn.Conv2d(64, 128, 3)\n",
        "        self.drop5 = nn.Dropout2d(0.4)\n",
        "        self.conv5_bn = nn.BatchNorm2d(128)\n",
        "\n",
        "        #Defining Fully connected Layers (y = Wx + b)\n",
        "        self.fullyConnected1 = nn.Linear(128*2*2, 256)\n",
        "        self.fc1_bn = nn.BatchNorm1d(256)\n",
        "\n",
        "        self.fullyConnected2 = nn.Linear(256, 64)\n",
        "        self.fc2_bn = nn.BatchNorm1d(64)\n",
        "\n",
        "        self.fullyConnected3 = nn.Linear(64, 10)\n",
        "\n",
        "    def forward(self, imageFeatures):\n",
        "        elu = nn.ELU()\n",
        "\n",
        "        conv1 = elu(self.conv1_bn(self.drop1(self.convotionLayer1(imageFeatures))))\n",
        "        imageFeatures = Func.max_pool2d(conv1, (2, 2))\n",
        "        #print(imageFeatures.shape)\n",
        "        # If the size is a square you can only specify a single number\n",
        "\n",
        "        imageFeatures = elu(self.conv2_bn(self.convotionLayer2(imageFeatures)))\n",
        "        #print(imageFeatures.shape)\n",
        "\n",
        "        conv3 = elu(self.conv3_bn(self.drop3(self.convotionLayer3(imageFeatures))))\n",
        "        imageFeatures = Func.max_pool2d(conv3, (2, 2))\n",
        "        #print(imageFeatures.shape)\n",
        "\n",
        "        imageFeatures = elu(self.conv4_bn(self.convotionLayer4(imageFeatures)))\n",
        "        #print(imageFeatures.shape)\n",
        "\n",
        "\n",
        "        conv5 = elu(self.conv5_bn(self.drop5(self.convotionLayer5(imageFeatures))))\n",
        "        imageFeatures = Func.max_pool2d(conv5, (2, 2))\n",
        "\n",
        "        #print(imageFeatures.shape)\n",
        "\n",
        "        imageFeatures = imageFeatures.view(-1, 128*2*2)\n",
        "        imageFeatures = elu(self.fc1_bn(self.fullyConnected1(imageFeatures)))\n",
        "        imageFeatures = elu(self.fc2_bn(self.fullyConnected2(imageFeatures)))\n",
        "        imageFeatures = self.fullyConnected3(imageFeatures)\n",
        "        return imageFeatures\n",
        "\n",
        "    def num_flat_features(self, imageFeatures):\n",
        "      length = imageFeatures.size()[1:]  # all dimensions except the batch dimension\n",
        "      featureDim = 1\n",
        "      for k in length:\n",
        "        featureDim *= k\n",
        "      return featureDim\n",
        "\n",
        "cnn = Net()\n",
        "print(cnn)\n",
        "params = list(cnn.parameters())\n",
        "print(len(params))\n",
        "#print(params[0].size())\n",
        "\n",
        "input = torch.randn(3,3,32,32)\n",
        "output = cnn(input)\n",
        "print(output)\n",
        "labels = torch.randn(10)\n",
        "labels = labels.view(1, -1) \n",
        "\n",
        "numberOfParams= sum(p.numel() for p in cnn.parameters() if p.requires_grad)\n",
        "print(numberOfParams)"
      ],
      "execution_count": 4,
      "outputs": [
        {
          "output_type": "stream",
          "text": [
            "Net(\n",
            "  (convotionLayer1): Conv2d(3, 32, kernel_size=(3, 3), stride=(1, 1))\n",
            "  (drop1): Dropout2d(p=0.2, inplace=False)\n",
            "  (conv1_bn): BatchNorm2d(32, eps=1e-05, momentum=0.1, affine=True, track_running_stats=True)\n",
            "  (convotionLayer2): Conv2d(32, 32, kernel_size=(3, 3), stride=(1, 1), padding=(1, 1))\n",
            "  (conv2_bn): BatchNorm2d(32, eps=1e-05, momentum=0.1, affine=True, track_running_stats=True)\n",
            "  (convotionLayer3): Conv2d(32, 64, kernel_size=(3, 3), stride=(1, 1))\n",
            "  (drop3): Dropout2d(p=0.3, inplace=False)\n",
            "  (conv3_bn): BatchNorm2d(64, eps=1e-05, momentum=0.1, affine=True, track_running_stats=True)\n",
            "  (convotionLayer4): Conv2d(64, 64, kernel_size=(3, 3), stride=(1, 1), padding=(1, 1))\n",
            "  (conv4_bn): BatchNorm2d(64, eps=1e-05, momentum=0.1, affine=True, track_running_stats=True)\n",
            "  (convotionLayer5): Conv2d(64, 128, kernel_size=(3, 3), stride=(1, 1))\n",
            "  (drop5): Dropout2d(p=0.4, inplace=False)\n",
            "  (conv5_bn): BatchNorm2d(128, eps=1e-05, momentum=0.1, affine=True, track_running_stats=True)\n",
            "  (fullyConnected1): Linear(in_features=512, out_features=256, bias=True)\n",
            "  (fc1_bn): BatchNorm1d(256, eps=1e-05, momentum=0.1, affine=True, track_running_stats=True)\n",
            "  (fullyConnected2): Linear(in_features=256, out_features=64, bias=True)\n",
            "  (fc2_bn): BatchNorm1d(64, eps=1e-05, momentum=0.1, affine=True, track_running_stats=True)\n",
            "  (fullyConnected3): Linear(in_features=64, out_features=10, bias=True)\n",
            ")\n",
            "30\n",
            "tensor([[ 0.1819, -0.1955,  1.2649, -0.1782,  0.0133, -0.4552,  0.0049,  0.8837,\n",
            "          0.8872, -0.4658],\n",
            "        [-0.5392,  0.4079, -1.1906,  0.0825,  0.2103,  0.2959,  0.1410, -0.7421,\n",
            "         -0.5519,  0.3130],\n",
            "        [ 0.3914, -0.8538,  0.4903, -0.2762,  0.0080,  0.1341, -1.0558, -0.0060,\n",
            "         -0.3212,  0.0177]], grad_fn=<AddmmBackward>)\n",
            "289130\n"
          ],
          "name": "stdout"
        }
      ]
    },
    {
      "cell_type": "code",
      "metadata": {
        "id": "ZZWxJg6qyZvH",
        "outputId": "693118c4-c764-4994-d314-ed48ce6cce59",
        "colab": {
          "base_uri": "https://localhost:8080/"
        }
      },
      "source": [
        "import torch.optim as optim\n",
        "\n",
        "def evalAccuracy():\n",
        "  #Overall train and test accuracy\n",
        "  correctClassification_train = 0\n",
        "  totalImages_train = 0\n",
        "\n",
        "  correctClassification_test = 0\n",
        "  totalImages_test = 0\n",
        "\n",
        "  with torch.no_grad():\n",
        "    for data in trainImages:\n",
        "      img, label = data\n",
        "      output = cnn(img)\n",
        "      for i,k in enumerate(output):\n",
        "        if torch.argmax(k) == label[i]:\n",
        "          correctClassification_train +=1\n",
        "        totalImages_train +=1\n",
        "\n",
        "  with torch.no_grad():\n",
        "    for data in validationImages:\n",
        "      img, label = data\n",
        "      output = cnn(img)\n",
        "      for i,k in enumerate(output):\n",
        "        if torch.argmax(k) == label[i]:\n",
        "          correctClassification_test +=1\n",
        "        totalImages_test +=1\n",
        "\n",
        "  trainAccuracy = correctClassification_train/totalImages_train      \n",
        "  testAccuracy = correctClassification_test/totalImages_test\n",
        "  return trainAccuracy, testAccuracy\n",
        "\n",
        "def training(learningRate, momentum, epochs, criterion, optimizer):\n",
        "  trainingAccuracyList = []\n",
        "  testingAccuracyList = []\n",
        "\n",
        "  running_loss = 0\n",
        "  for epoch in range(epochs):\n",
        "    for i, trainData in enumerate(trainImages, 0):\n",
        "      imgs, labels = trainData\n",
        "\n",
        "      #set the gradient to zero\n",
        "      optimizer.zero_grad()\n",
        "      outputs = cnn(imgs)\n",
        "      loss = criterion(outputs, labels)\n",
        "      loss.backward()\n",
        "      optimizer.step()\n",
        "\n",
        "    print(epoch, loss)\n",
        "\n",
        "    trainAccuracy, testAccuracy = evalAccuracy()\n",
        "    trainingAccuracyList.append(trainAccuracy)\n",
        "    testingAccuracyList.append(testAccuracy)\n",
        "\n",
        "  return trainingAccuracyList, testingAccuracyList\n",
        "\n",
        "#define training parameters\n",
        "learningRate = 0.001\n",
        "momentum = 0.9\n",
        "epochs = 80\n",
        "criterion = nn.CrossEntropyLoss()\n",
        "\n",
        "optimizer = optim.SGD(cnn.parameters(), lr=0.001, momentum=0.9)\n",
        "#optimizer = optim.Adam(cnn.parameters(), lr=0.001, betas=(0.9, 0.999), eps=1e-08, weight_decay=0.0001, amsgrad=False)\n",
        "\n",
        "\n",
        "#Call training function\n",
        "trainingAccuracyList, testingAccuracyList = training(learningRate, momentum, epochs, criterion, optimizer)\n",
        "print(\"Train Accuracy for Each Epoch: \",trainingAccuracyList)\n",
        "print(\"Test Accuracy for Each Epoch: \", testingAccuracyList)\n",
        "\n"
      ],
      "execution_count": 7,
      "outputs": [
        {
          "output_type": "stream",
          "text": [
            "0 tensor(1.6023, grad_fn=<NllLossBackward>)\n",
            "1 tensor(1.4861, grad_fn=<NllLossBackward>)\n",
            "2 tensor(1.7494, grad_fn=<NllLossBackward>)\n",
            "3 tensor(1.4682, grad_fn=<NllLossBackward>)\n",
            "4 tensor(1.5358, grad_fn=<NllLossBackward>)\n",
            "5 tensor(1.4694, grad_fn=<NllLossBackward>)\n",
            "6 tensor(1.1941, grad_fn=<NllLossBackward>)\n",
            "7 tensor(1.2749, grad_fn=<NllLossBackward>)\n",
            "8 tensor(1.1660, grad_fn=<NllLossBackward>)\n",
            "9 tensor(1.3133, grad_fn=<NllLossBackward>)\n",
            "10 tensor(1.2094, grad_fn=<NllLossBackward>)\n",
            "11 tensor(1.0773, grad_fn=<NllLossBackward>)\n",
            "12 tensor(1.1045, grad_fn=<NllLossBackward>)\n",
            "13 tensor(0.9734, grad_fn=<NllLossBackward>)\n",
            "14 tensor(1.0452, grad_fn=<NllLossBackward>)\n",
            "15 tensor(1.0327, grad_fn=<NllLossBackward>)\n",
            "16 tensor(0.9282, grad_fn=<NllLossBackward>)\n",
            "17 tensor(1.0400, grad_fn=<NllLossBackward>)\n",
            "18 tensor(0.9136, grad_fn=<NllLossBackward>)\n",
            "19 tensor(0.9494, grad_fn=<NllLossBackward>)\n",
            "20 tensor(1.2555, grad_fn=<NllLossBackward>)\n",
            "21 tensor(0.8454, grad_fn=<NllLossBackward>)\n",
            "22 tensor(0.9655, grad_fn=<NllLossBackward>)\n",
            "23 tensor(1.0842, grad_fn=<NllLossBackward>)\n",
            "24 tensor(1.1545, grad_fn=<NllLossBackward>)\n",
            "25 tensor(0.8387, grad_fn=<NllLossBackward>)\n",
            "26 tensor(0.8349, grad_fn=<NllLossBackward>)\n",
            "27 tensor(1.1793, grad_fn=<NllLossBackward>)\n",
            "28 tensor(0.9377, grad_fn=<NllLossBackward>)\n",
            "29 tensor(0.6778, grad_fn=<NllLossBackward>)\n",
            "30 tensor(1.0116, grad_fn=<NllLossBackward>)\n",
            "31 tensor(0.7649, grad_fn=<NllLossBackward>)\n",
            "32 tensor(1.0467, grad_fn=<NllLossBackward>)\n",
            "33 tensor(0.7780, grad_fn=<NllLossBackward>)\n",
            "34 tensor(0.8781, grad_fn=<NllLossBackward>)\n",
            "35 tensor(0.7422, grad_fn=<NllLossBackward>)\n",
            "36 tensor(0.9808, grad_fn=<NllLossBackward>)\n",
            "37 tensor(0.9273, grad_fn=<NllLossBackward>)\n",
            "38 tensor(1.0679, grad_fn=<NllLossBackward>)\n",
            "39 tensor(0.6356, grad_fn=<NllLossBackward>)\n",
            "40 tensor(1.0050, grad_fn=<NllLossBackward>)\n",
            "41 tensor(0.8558, grad_fn=<NllLossBackward>)\n",
            "42 tensor(0.7670, grad_fn=<NllLossBackward>)\n",
            "43 tensor(0.8808, grad_fn=<NllLossBackward>)\n",
            "44 tensor(0.7883, grad_fn=<NllLossBackward>)\n",
            "45 tensor(0.7910, grad_fn=<NllLossBackward>)\n",
            "46 tensor(0.7821, grad_fn=<NllLossBackward>)\n",
            "47 tensor(0.6566, grad_fn=<NllLossBackward>)\n",
            "48 tensor(0.8407, grad_fn=<NllLossBackward>)\n",
            "49 tensor(0.8588, grad_fn=<NllLossBackward>)\n",
            "50 tensor(0.9609, grad_fn=<NllLossBackward>)\n",
            "51 tensor(0.8496, grad_fn=<NllLossBackward>)\n",
            "52 tensor(0.8815, grad_fn=<NllLossBackward>)\n",
            "53 tensor(1.1114, grad_fn=<NllLossBackward>)\n",
            "54 tensor(0.8388, grad_fn=<NllLossBackward>)\n",
            "55 tensor(0.6857, grad_fn=<NllLossBackward>)\n",
            "56 tensor(0.9138, grad_fn=<NllLossBackward>)\n",
            "57 tensor(0.8594, grad_fn=<NllLossBackward>)\n",
            "58 tensor(0.6977, grad_fn=<NllLossBackward>)\n",
            "59 tensor(1.0697, grad_fn=<NllLossBackward>)\n",
            "60 tensor(0.9338, grad_fn=<NllLossBackward>)\n",
            "61 tensor(0.6188, grad_fn=<NllLossBackward>)\n",
            "62 tensor(0.5469, grad_fn=<NllLossBackward>)\n",
            "63 tensor(0.8123, grad_fn=<NllLossBackward>)\n",
            "64 tensor(0.8168, grad_fn=<NllLossBackward>)\n",
            "65 tensor(0.8612, grad_fn=<NllLossBackward>)\n",
            "66 tensor(0.8632, grad_fn=<NllLossBackward>)\n",
            "67 tensor(0.7644, grad_fn=<NllLossBackward>)\n",
            "68 tensor(0.8913, grad_fn=<NllLossBackward>)\n",
            "69 tensor(0.8789, grad_fn=<NllLossBackward>)\n",
            "70 tensor(0.8056, grad_fn=<NllLossBackward>)\n",
            "71 tensor(0.6958, grad_fn=<NllLossBackward>)\n",
            "72 tensor(0.9174, grad_fn=<NllLossBackward>)\n",
            "73 tensor(0.8639, grad_fn=<NllLossBackward>)\n",
            "74 tensor(0.5992, grad_fn=<NllLossBackward>)\n",
            "75 tensor(0.8803, grad_fn=<NllLossBackward>)\n",
            "76 tensor(1.0978, grad_fn=<NllLossBackward>)\n",
            "77 tensor(0.7453, grad_fn=<NllLossBackward>)\n",
            "78 tensor(0.7731, grad_fn=<NllLossBackward>)\n",
            "79 tensor(0.5677, grad_fn=<NllLossBackward>)\n",
            "Train Accuracy for Each Epoch:  [0.38805, 0.4446, 0.472275, 0.5009, 0.519825, 0.53505, 0.5464, 0.5641, 0.57195, 0.583575, 0.589225, 0.602575, 0.6104, 0.60625, 0.614325, 0.616475, 0.62215, 0.632375, 0.63715, 0.635775, 0.639425, 0.6468, 0.64595, 0.650375, 0.655675, 0.6589, 0.6655, 0.66385, 0.6644, 0.668825, 0.673375, 0.676525, 0.68085, 0.6759, 0.675075, 0.68525, 0.683175, 0.680725, 0.687375, 0.6891, 0.691225, 0.691225, 0.696625, 0.697475, 0.6966, 0.694275, 0.70315, 0.701225, 0.70065, 0.699325, 0.702325, 0.705575, 0.708325, 0.70615, 0.708225, 0.711325, 0.7153, 0.715875, 0.71275, 0.71635, 0.7173, 0.718775, 0.7188, 0.7208, 0.722825, 0.7231, 0.7237, 0.721575, 0.7229, 0.7287, 0.72275, 0.7293, 0.73, 0.727975, 0.730125, 0.7336, 0.732625, 0.735525, 0.727825, 0.7312]\n",
            "Test Accuracy for Each Epoch:  [0.3858, 0.4359, 0.468, 0.4947, 0.523, 0.5266, 0.5373, 0.5567, 0.5753, 0.5721, 0.5806, 0.5893, 0.5951, 0.6037, 0.6004, 0.6052, 0.6117, 0.6169, 0.6223, 0.6247, 0.6298, 0.6346, 0.6351, 0.6385, 0.6396, 0.6473, 0.648, 0.6434, 0.6483, 0.6521, 0.6599, 0.6589, 0.6617, 0.6617, 0.6652, 0.6656, 0.6692, 0.6639, 0.6687, 0.6719, 0.6811, 0.6761, 0.6735, 0.6756, 0.683, 0.6747, 0.6788, 0.6702, 0.6841, 0.6813, 0.6753, 0.6904, 0.6826, 0.674, 0.6878, 0.6848, 0.6859, 0.693, 0.689, 0.6906, 0.6927, 0.6889, 0.6905, 0.7002, 0.6958, 0.6957, 0.6987, 0.6943, 0.6921, 0.7056, 0.6948, 0.7064, 0.6948, 0.7014, 0.7028, 0.7078, 0.7049, 0.7054, 0.6988, 0.703]\n"
          ],
          "name": "stdout"
        }
      ]
    },
    {
      "cell_type": "code",
      "metadata": {
        "id": "e3DFrIFi-WxV",
        "outputId": "1eeea1fa-abef-49b2-f45c-4807d2819885",
        "colab": {
          "base_uri": "https://localhost:8080/"
        }
      },
      "source": [
        "#Overall train and test accuracy\n",
        "correctClassification = 0\n",
        "totalImages = 0\n",
        "\n",
        "with torch.no_grad():\n",
        "  for data in testImages:\n",
        "    img, label = data\n",
        "    output = cnn(img)\n",
        "    for i,k in enumerate(output):\n",
        "      if torch.argmax(k) == label[i]:\n",
        "        correctClassification +=1\n",
        "      totalImages +=1\n",
        "\n",
        "print (\"Accuracy: \", correctClassification/totalImages)"
      ],
      "execution_count": 9,
      "outputs": [
        {
          "output_type": "stream",
          "text": [
            "Accuracy:  0.7517\n"
          ],
          "name": "stdout"
        }
      ]
    },
    {
      "cell_type": "code",
      "metadata": {
        "id": "XlHuDlIER0gf",
        "outputId": "3d27bf90-6461-4e6a-d354-30cde3e16c5c",
        "colab": {
          "base_uri": "https://localhost:8080/",
          "height": 295
        }
      },
      "source": [
        "epochList = [i for i in range(1, 81)]\n",
        "plt.plot(epochList, [1-x for x in trainingAccuracyList], label = \"Train\")\n",
        "plt.plot(epochList, [1-y for y in testingAccuracyList], label = \"Validation\")\n",
        "\n",
        "plt.xlabel('Number of Epochs') \n",
        "plt.ylabel('Error')  \n",
        "plt.title('Error vs Epochs') \n",
        "plt.legend()  \n",
        "plt.show() "
      ],
      "execution_count": 11,
      "outputs": [
        {
          "output_type": "display_data",
          "data": {
            "image/png": "[encoded data removed]",
            "text/plain": [
              "<Figure size 432x288 with 1 Axes>"
            ]
          },
          "metadata": {
            "tags": [],
            "needs_background": "light"
          }
        }
      ]
    },
    {
      "cell_type": "code",
      "metadata": {
        "id": "waUFlNjcwEWN"
      },
      "source": [
        "#save the model\n",
        "#torch.save(cnn.state_dict(), 'drive/My Drive/CSCI677-Homeworks/baseline_model.h5')"
      ],
      "execution_count": null,
      "outputs": []
    },
    {
      "cell_type": "code",
      "metadata": {
        "id": "u0-PKOs6xj_i"
      },
      "source": [
        "#Load the Model\n",
        "Net = torch.load('drive/My Drive/CSCI677-Homeworks/baseline_model.h5')"
      ],
      "execution_count": 10,
      "outputs": []
    },
    {
      "cell_type": "code",
      "metadata": {
        "id": "vdRUHK-vtpks",
        "outputId": "e9ec1122-73cb-4dd2-9c76-74aeb6e2b8b0",
        "colab": {
          "base_uri": "https://localhost:8080/"
        }
      },
      "source": [
        "from sklearn.metrics import confusion_matrix\n",
        "\n",
        "nb_classes = 10\n",
        "\n",
        "# Initialize the prediction and label lists(tensors)\n",
        "predlist=torch.zeros(0,dtype=torch.long)\n",
        "lbllist=torch.zeros(0,dtype=torch.long)\n",
        "\n",
        "with torch.no_grad():\n",
        "    for i, (inputs, classes) in enumerate(testImages):\n",
        "        outputs = cnn(inputs)\n",
        "        _, preds = torch.max(outputs, 1)\n",
        "\n",
        "        # Append batch prediction results\n",
        "        predlist=torch.cat([predlist,preds.view(-1)])\n",
        "        lbllist=torch.cat([lbllist,classes.view(-1)])\n",
        "\n",
        "# Confusion matrix\n",
        "conf_mat=confusion_matrix(lbllist.numpy(), predlist.numpy())\n",
        "print(conf_mat)\n",
        "\n",
        "# Per-class accuracy\n",
        "class_accuracy=100*conf_mat.diagonal()/conf_mat.sum(1)\n",
        "print(class_accuracy)"
      ],
      "execution_count": 12,
      "outputs": [
        {
          "output_type": "stream",
          "text": [
            "[[687  23  51  26  24   5  11  21  74  51]\n",
            " [ 17 801   6   8   4   7   7   6  28  95]\n",
            " [ 72   1 606  58  95  47  81  36  24  10]\n",
            " [ 26   6  77 515  68 154 104  45  21   7]\n",
            " [ 27   3  55  43 656  20  46  68  12   3]\n",
            " [  8   6  77 177  66 569  37  61   8   6]\n",
            " [  7   4  43  46  45  18 807   5  11  10]\n",
            " [ 12   6  27  46  64  53  15 740   6  25]\n",
            " [ 64  26  13  11   6   8   7   3 841  38]\n",
            " [ 30  74   7  22   5   9   8  19  35 831]]\n",
            "[70.60637205 81.81818182 58.83495146 50.34213099 70.31082529 56.0591133\n",
            " 81.02409639 74.44668008 82.69419862 79.90384615]\n"
          ],
          "name": "stdout"
        }
      ]
    },
    {
      "cell_type": "code",
      "metadata": {
        "id": "1E56tizLkoYA",
        "outputId": "905bf59d-4f69-497a-8bcb-923a0e225e3d",
        "colab": {
          "base_uri": "https://localhost:8080/",
          "height": 282
        }
      },
      "source": [
        "import seaborn as sns\n",
        "normalized_confMatrix=100*conf_mat/conf_mat.sum(1)\n",
        "sns.heatmap(normalized_confMatrix, annot=True)"
      ],
      "execution_count": 13,
      "outputs": [
        {
          "output_type": "execute_result",
          "data": {
            "text/plain": [
              "<matplotlib.axes._subplots.AxesSubplot at 0x7fdc59bc6cc0>"
            ]
          },
          "metadata": {
            "tags": []
          },
          "execution_count": 13
        },
        {
          "output_type": "display_data",
          "data": {
            "image/png": "[encoded data removed]",
            "text/plain": [
              "<Figure size 432x288 with 2 Axes>"
            ]
          },
          "metadata": {
            "tags": [],
            "needs_background": "light"
          }
        }
      ]
    }
  ]
}